{
 "cells": [
  {
   "cell_type": "code",
   "execution_count": null,
   "metadata": {},
   "outputs": [],
   "source": [
    "import tensorflow as tf\n",
    "\n",
    "def list_record_features(tfrecords_path):\n",
    "    # Dict of extracted feature information\n",
    "    features = {}\n",
    "    # Iterate records\n",
    "    for rec in tf.data.TFRecordDataset([str(tfrecords_path)]):\n",
    "        # Get record bytes\n",
    "        example_bytes = rec.numpy()\n",
    "        # Parse example protobuf message\n",
    "        example = tf.train.Example()\n",
    "        example.ParseFromString(example_bytes)\n",
    "        # Iterate example features\n",
    "        for key, value in example.features.feature.items():\n",
    "            # Kind of data in the feature\n",
    "            kind = value.WhichOneof('kind')\n",
    "            # Size of data in the feature\n",
    "            size = len(getattr(value, kind).value)\n",
    "            # Check if feature was seen before\n",
    "            if key in features:\n",
    "                # Check if values match, use None otherwise\n",
    "                kind2, size2 = features[key]\n",
    "                if kind != kind2:\n",
    "                    kind = None\n",
    "                if size != size2:\n",
    "                    size = None\n",
    "            # Save feature data\n",
    "            features[key] = (kind, size)\n",
    "    return features\n",
    "\n",
    "\n",
    "\n",
    "features = list_record_features(tfrecords_path)"
   ]
  }
 ],
 "metadata": {
  "kernelspec": {
   "display_name": "Python 3.10.4 64-bit",
   "language": "python",
   "name": "python3"
  },
  "language_info": {
   "name": "python",
   "version": "3.10.4"
  },
  "orig_nbformat": 4,
  "vscode": {
   "interpreter": {
    "hash": "e02fd8c1647a10c095a5d5d362037efea5421a833da348a30fe407dff82fa04e"
   }
  }
 },
 "nbformat": 4,
 "nbformat_minor": 2
}
